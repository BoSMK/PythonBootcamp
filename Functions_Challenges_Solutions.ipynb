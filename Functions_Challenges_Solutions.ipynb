{
 "cells": [
  {
   "cell_type": "markdown",
   "metadata": {},
   "source": [
    "## Functions\n",
    "    with all our powers combined"
   ]
  },
  {
   "cell_type": "markdown",
   "metadata": {},
   "source": [
    "define a function that prints \"hello world\":"
   ]
  },
  {
   "cell_type": "code",
   "execution_count": 1,
   "metadata": {},
   "outputs": [],
   "source": [
    "def printthething():\n",
    "    print('hello world')"
   ]
  },
  {
   "cell_type": "code",
   "execution_count": 2,
   "metadata": {},
   "outputs": [
    {
     "name": "stdout",
     "output_type": "stream",
     "text": [
      "hello world\n"
     ]
    }
   ],
   "source": [
    "printthething()"
   ]
  },
  {
   "cell_type": "code",
   "execution_count": 3,
   "metadata": {},
   "outputs": [],
   "source": [
    "def printtheotherthing():\n",
    "    return \"hello world\""
   ]
  },
  {
   "cell_type": "code",
   "execution_count": 4,
   "metadata": {},
   "outputs": [
    {
     "data": {
      "text/plain": [
       "'hello world'"
      ]
     },
     "execution_count": 4,
     "metadata": {},
     "output_type": "execute_result"
    }
   ],
   "source": [
    "printtheotherthing()"
   ]
  },
  {
   "cell_type": "markdown",
   "metadata": {},
   "source": [
    "define a function a function that takes two lists and outputs a dictionairy:"
   ]
  },
  {
   "cell_type": "code",
   "execution_count": 5,
   "metadata": {},
   "outputs": [],
   "source": [
    "people = ['Alex','Kim',\"Harold\"]\n",
    "peoplesages = [20,50,17]"
   ]
  },
  {
   "cell_type": "code",
   "execution_count": 6,
   "metadata": {},
   "outputs": [],
   "source": [
    "def dictionary_namey_thingy(somelist, anotherlist):\n",
    "    empty_dictionary = {}\n",
    "    for name, age in zip(somelist, anotherlist):\n",
    "        empty_dictionary[name] = age\n",
    "    return empty_dictionary"
   ]
  },
  {
   "cell_type": "code",
   "execution_count": 7,
   "metadata": {},
   "outputs": [
    {
     "data": {
      "text/plain": [
       "{'Alex': 20, 'Kim': 50, 'Harold': 17}"
      ]
     },
     "execution_count": 7,
     "metadata": {},
     "output_type": "execute_result"
    }
   ],
   "source": [
    "dictionary_namey_thingy(people, peoplesages)"
   ]
  },
  {
   "cell_type": "code",
   "execution_count": 8,
   "metadata": {},
   "outputs": [],
   "source": [
    "other_people = ['travis', 'jesssica', 'philipe']\n",
    "otherpeoplesages = [31, 28, 34]"
   ]
  },
  {
   "cell_type": "code",
   "execution_count": 9,
   "metadata": {},
   "outputs": [
    {
     "data": {
      "text/plain": [
       "{'travis': 31, 'jesssica': 28, 'philipe': 34}"
      ]
     },
     "execution_count": 9,
     "metadata": {},
     "output_type": "execute_result"
    }
   ],
   "source": [
    "dictionary_namey_thingy(other_people, otherpeoplesages)"
   ]
  },
  {
   "cell_type": "markdown",
   "metadata": {},
   "source": [
    "define a function that takes the average value of a list:"
   ]
  },
  {
   "cell_type": "code",
   "execution_count": 14,
   "metadata": {},
   "outputs": [],
   "source": [
    "num_list = [1,2,3,4,5]"
   ]
  },
  {
   "cell_type": "code",
   "execution_count": 15,
   "metadata": {},
   "outputs": [],
   "source": [
    "def the_averager(listOfNums):\n",
    "    return sum(listOfNums)/len(listOfNums)"
   ]
  },
  {
   "cell_type": "code",
   "execution_count": 16,
   "metadata": {},
   "outputs": [
    {
     "data": {
      "text/plain": [
       "3.0"
      ]
     },
     "execution_count": 16,
     "metadata": {},
     "output_type": "execute_result"
    }
   ],
   "source": [
    "averager(num_list)"
   ]
  },
  {
   "cell_type": "markdown",
   "metadata": {},
   "source": [
    "## Challenges\n",
    "     do on your own, get help from friends, get help from me,\n",
    "     look back at other notebooks for advice.\n",
    "     these are in no particular order, some are harder than others"
   ]
  },
  {
   "cell_type": "markdown",
   "metadata": {},
   "source": [
    "define a function that finds the minimum or maximum value in the_dictionary and returns the key value pair:"
   ]
  },
  {
   "cell_type": "code",
   "execution_count": 7,
   "metadata": {},
   "outputs": [],
   "source": [
    "the_dictionary = {'Addidas': 1,\n",
    "                  'Nike': 2,\n",
    "                  'New Balance':3 ,\n",
    "                  'Puma': 2,\n",
    "                  'Under Armor': 5\n",
    "}"
   ]
  },
  {
   "cell_type": "code",
   "execution_count": 60,
   "metadata": {
    "scrolled": true
   },
   "outputs": [
    {
     "name": "stdout",
     "output_type": "stream",
     "text": [
      "[1, 2, 3, 2, 5]\n"
     ]
    }
   ],
   "source": [
    "v=(list(the_dictionary.values()))\n",
    "print (v)"
   ]
  },
  {
   "cell_type": "code",
   "execution_count": 51,
   "metadata": {},
   "outputs": [
    {
     "data": {
      "text/plain": [
       "'Addidas'"
      ]
     },
     "execution_count": 51,
     "metadata": {},
     "output_type": "execute_result"
    }
   ],
   "source": [
    "min(the_dictionary,key=the_dictionary.get)"
   ]
  },
  {
   "cell_type": "code",
   "execution_count": 25,
   "metadata": {},
   "outputs": [
    {
     "name": "stdout",
     "output_type": "stream",
     "text": [
      "The Max is:  Under Armor\n",
      "The Min is:  Addidas\n"
     ]
    }
   ],
   "source": [
    "def findminmax(dict):\n",
    "    v=(list(dict.values()))\n",
    "    k=(list(dict.keys()))\n",
    "    \n",
    "    print (\"The Max is: \", k[v.index(max(v))])\n",
    "    print (\"The Min is: \", k[v.index(min(v))])\n",
    "    \n",
    "\n",
    "findminmax(the_dictionary)"
   ]
  },
  {
   "cell_type": "markdown",
   "metadata": {},
   "source": [
    "The Max Function can be used to return the maximum value of a list like this"
   ]
  },
  {
   "cell_type": "code",
   "execution_count": 11,
   "metadata": {},
   "outputs": [
    {
     "data": {
      "text/plain": [
       "5"
      ]
     },
     "execution_count": 11,
     "metadata": {},
     "output_type": "execute_result"
    }
   ],
   "source": [
    "max(list(the_dictionary.values()))"
   ]
  },
  {
   "cell_type": "markdown",
   "metadata": {},
   "source": [
    "Thus, we need to change the keys and values into a list and return the max value of the dictionary with its corresponding key, like this:"
   ]
  },
  {
   "cell_type": "code",
   "execution_count": 12,
   "metadata": {},
   "outputs": [
    {
     "name": "stdout",
     "output_type": "stream",
     "text": [
      "the max is : Under Armor\n",
      "the min is : Addidas\n"
     ]
    }
   ],
   "source": [
    "##### Define Function Here\n",
    "def findminmax(somedict):\n",
    "    v=list(somedict.values())\n",
    "    k=list(somedict.keys())\n",
    "    print(\"the max is :\", k[v.index(max(v))])\n",
    "    print(\"the min is :\", k[v.index(min(v))])\n",
    "          \n",
    "\n",
    "##### Test function Here\n",
    "findminmax(the_dictionary)"
   ]
  },
  {
   "cell_type": "markdown",
   "metadata": {},
   "source": [
    "Here's another way to solve"
   ]
  },
  {
   "cell_type": "code",
   "execution_count": 26,
   "metadata": {},
   "outputs": [],
   "source": [
    "def otherfindminmax(d1):\n",
    "    print(\"max:\", max(d1, key=d1.get))\n",
    "    print(\"minimum:\", min(d1, key=d1.get))"
   ]
  },
  {
   "cell_type": "code",
   "execution_count": 27,
   "metadata": {},
   "outputs": [
    {
     "name": "stdout",
     "output_type": "stream",
     "text": [
      "max: Under Armor\n",
      "minimum: Addidas\n"
     ]
    }
   ],
   "source": [
    "otherfindminmax(the_dictionary)"
   ]
  },
  {
   "cell_type": "markdown",
   "metadata": {},
   "source": [
    "define a function that reverses the the_string and prints it out:"
   ]
  },
  {
   "cell_type": "code",
   "execution_count": 15,
   "metadata": {},
   "outputs": [],
   "source": [
    "the_string = \"this isn't clever, I just want to see if you can do this\"\n",
    "##### Define Function Here"
   ]
  },
  {
   "cell_type": "markdown",
   "metadata": {},
   "source": [
    "Two ways to think about what this question is asking: \n",
    "\n",
    "\"Return back each word in reverse\"\n",
    "\n",
    "or \n",
    "\n",
    "\"Return back the whole string reversed\""
   ]
  },
  {
   "cell_type": "code",
   "execution_count": 17,
   "metadata": {},
   "outputs": [
    {
     "name": "stdout",
     "output_type": "stream",
     "text": [
      "siht t'nsi ,revelc I tsuj tnaw ot ees fi uoy nac od siht \n",
      "siht od nac uoy fi ees ot tnaw tsuj I ,revelc t'nsi siht\n"
     ]
    }
   ],
   "source": [
    "def stringreverser(somestring):\n",
    "    \"\"\"\n",
    "    this function reverses each word in place\n",
    "    \"\"\"\n",
    "    words_rev = ''\n",
    "\n",
    "    for word in somestring.split(\" \"):\n",
    "        words_rev += word[::-1]\n",
    "    \n",
    "        if word != somestring.split()[::-1]:\n",
    "            words_rev += \" \"\n",
    "            \n",
    "    return words_rev\n",
    "\n",
    "def otherstringreverser(somestring):\n",
    "    \"\"\"\n",
    "    this function returns back the reverse of an entire string\n",
    "    \"\"\"\n",
    "    return somestring[::-1]\n",
    "\n",
    "##### Test function Here\n",
    "print(stringreverser(the_string))\n",
    "print(otherstringreverser(the_string))"
   ]
  },
  {
   "cell_type": "markdown",
   "metadata": {},
   "source": [
    "define a function  to find the same values in the two lists:"
   ]
  },
  {
   "cell_type": "code",
   "execution_count": 18,
   "metadata": {},
   "outputs": [],
   "source": [
    "a = [1, 1, 2, 3, 5, 8, 13, 21, 34, 55, 89,11,11, ]\n",
    "b = [1, 2, 3, 4, 5, 6, 7, 8, 9, 10, 11, 12, 13,]"
   ]
  },
  {
   "cell_type": "markdown",
   "metadata": {},
   "source": [
    "We're going to use the built in \"set\" function, which returns back the unique values of a list."
   ]
  },
  {
   "cell_type": "code",
   "execution_count": 19,
   "metadata": {},
   "outputs": [
    {
     "name": "stdout",
     "output_type": "stream",
     "text": [
      "{1, 2, 3, 34, 5, 8, 11, 13, 21, 55, 89}\n",
      "{1, 2, 3, 4, 5, 6, 7, 8, 9, 10, 11, 12, 13}\n"
     ]
    }
   ],
   "source": [
    "a = set(a)\n",
    "b = set(b)\n",
    "print(a)\n",
    "print(b)"
   ]
  },
  {
   "cell_type": "code",
   "execution_count": 23,
   "metadata": {},
   "outputs": [
    {
     "name": "stdout",
     "output_type": "stream",
     "text": [
      "{1, 2, 3, 5, 8, 11, 13}\n"
     ]
    }
   ],
   "source": [
    "##### Define Function Here\n",
    "def thesame(numberlist1, numberlist2):\n",
    "    first_set = set(numberlist1)\n",
    "    second_set = set(numberlist2)\n",
    "    if (first_set & second_set):\n",
    "        print(first_set & second_set)\n",
    "    else:\n",
    "        print(\"No common elements\")\n",
    "\n",
    "##### Test function Here\n",
    "thesame(a, b)"
   ]
  },
  {
   "cell_type": "markdown",
   "metadata": {},
   "source": [
    "define a function to find the age of people born in a list of birth years:"
   ]
  },
  {
   "cell_type": "code",
   "execution_count": 1,
   "metadata": {},
   "outputs": [
    {
     "name": "stdout",
     "output_type": "stream",
     "text": [
      "the person born in 1990 is 29 old\n",
      "the person born in 1952 is 67 old\n",
      "the person born in 1725 is 294 old\n",
      "the person born in 1886 is 133 old\n",
      "the person born in 1942 is 77 old\n",
      "the person born in 1998 is 21 old\n",
      "the person born in 2005 is 14 old\n",
      "the person born in 1999 is 20 old\n"
     ]
    }
   ],
   "source": [
    "birth_years = [1990,1952,1725,1886,1942,1998,2005,1999]\n",
    "\n",
    "##### Define Function Here\n",
    "\n",
    "def howold(listofyears):\n",
    "    \"\"\"\n",
    "    functions don't always have to return things, sometimes they just print out things.\n",
    "    \"\"\"\n",
    "    for i in listofyears:\n",
    "        years= 2019 - i\n",
    "        print(\"the person born in\", i, \"is\", years, \"old\")\n",
    "    \n",
    "\n",
    "##### Test function Here\n",
    "howold(birth_years)"
   ]
  },
  {
   "cell_type": "markdown",
   "metadata": {},
   "source": [
    "Define a function that outputs the 'n_th' fibonnaci number. The fibonnaci sequence starts like this: 1,1,2,3,5,8,13:"
   ]
  },
  {
   "cell_type": "code",
   "execution_count": 6,
   "metadata": {},
   "outputs": [
    {
     "data": {
      "text/plain": [
       "46368"
      ]
     },
     "execution_count": 6,
     "metadata": {},
     "output_type": "execute_result"
    }
   ],
   "source": [
    "##### Define Function Here\n",
    "def fibonacci(n):\n",
    "    if n <= 1:\n",
    "        return n\n",
    "    else:\n",
    "        return fibonacci(n-1) + fibonacci(n-2)    \n",
    "\n",
    "##### Test function Here\n",
    "fibonacci(24)"
   ]
  },
  {
   "cell_type": "markdown",
   "metadata": {},
   "source": [
    "The above is fancy. It is called a _recursive_ function: a function that calls itself."
   ]
  }
 ],
 "metadata": {
  "kernelspec": {
   "display_name": "Python 3",
   "language": "python",
   "name": "python3"
  },
  "language_info": {
   "codemirror_mode": {
    "name": "ipython",
    "version": 3
   },
   "file_extension": ".py",
   "mimetype": "text/x-python",
   "name": "python",
   "nbconvert_exporter": "python",
   "pygments_lexer": "ipython3",
   "version": "3.7.4"
  }
 },
 "nbformat": 4,
 "nbformat_minor": 2
}
